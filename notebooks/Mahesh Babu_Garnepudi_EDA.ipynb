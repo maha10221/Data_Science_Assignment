{
  "cells": [
    {
      "cell_type": "markdown",
      "source": [
        "Done by Mahesh Babu"
      ],
      "metadata": {
        "id": "BAAHD16jA5vt"
      },
      "id": "BAAHD16jA5vt"
    },
    {
      "cell_type": "markdown",
      "source": [
        "Task 1: Exploratory Data Analysis (EDA) and Business Insights\n",
        "1. Perform EDA on the provided dataset.\n",
        "2. Derive at least 5 business insights from the EDA.\n",
        "3. Write these insights in short point-wise sentences (maximum 100 words per insight)."
      ],
      "metadata": {
        "id": "JYrWWtAXBh7Q"
      },
      "id": "JYrWWtAXBh7Q"
    },
    {
      "cell_type": "code",
      "source": [
        "import pandas as pd\n",
        "import numpy as np\n",
        "import datetime\n",
        "import plotly.express as px\n",
        "import plotly.graph_objs as go"
      ],
      "metadata": {
        "id": "BKdndckZA6r3"
      },
      "id": "BKdndckZA6r3",
      "execution_count": 48,
      "outputs": []
    },
    {
      "cell_type": "code",
      "source": [
        "# Load the datasets\n",
        "customers = pd.read_csv('Customers.csv')\n",
        "products = pd.read_csv('Products.csv')\n",
        "transactions = pd.read_csv('Transactions.csv')"
      ],
      "metadata": {
        "id": "SDBdZmDNA-3G"
      },
      "id": "SDBdZmDNA-3G",
      "execution_count": 50,
      "outputs": []
    },
    {
      "cell_type": "code",
      "source": [
        "# Data Preprocessing\n",
        "# Convert date columns to datetime\n",
        "customers['SignupDate'] = pd.to_datetime(customers['SignupDate'])\n",
        "transactions['TransactionDate'] = pd.to_datetime(transactions['TransactionDate'])"
      ],
      "metadata": {
        "id": "cct77HuUA-5D"
      },
      "id": "cct77HuUA-5D",
      "execution_count": 51,
      "outputs": []
    },
    {
      "cell_type": "code",
      "source": [
        "# Merge datasets\n",
        "merged_data = transactions.merge(customers, on='CustomerID')\n",
        "merged_data = merged_data.merge(products, on='ProductID')"
      ],
      "metadata": {
        "id": "UIqlJHFSA-8C"
      },
      "id": "UIqlJHFSA-8C",
      "execution_count": 52,
      "outputs": []
    },
    {
      "cell_type": "code",
      "source": [
        "# 1. Customer Acquisition Analysis\n",
        "def customer_acquisition_analysis(customers):\n",
        "    # Signup trend over time\n",
        "    customers['SignupYear'] = customers['SignupDate'].dt.year\n",
        "    customers['SignupMonth'] = customers['SignupDate'].dt.month\n",
        "\n",
        "    signup_trend = customers.groupby(['SignupYear', 'SignupMonth']).size().reset_index(name='NewCustomers')\n",
        "    signup_trend['YearMonth'] = signup_trend['SignupYear'].astype(str) + '-' + signup_trend['SignupMonth'].astype(str)\n",
        "\n",
        "    # Using Plotly for visualization\n",
        "    fig = px.line(signup_trend, x='YearMonth', y='NewCustomers',\n",
        "                  title='Customer Signup Trend',\n",
        "                  labels={'YearMonth': 'Year-Month', 'NewCustomers': 'Number of New Customers'})\n",
        "    fig.write_html(\"customer_signup_trend.html\")\n",
        "\n",
        "    return signup_trend\n"
      ],
      "metadata": {
        "id": "Js3sLethA--t"
      },
      "id": "Js3sLethA--t",
      "execution_count": 53,
      "outputs": []
    },
    {
      "cell_type": "code",
      "source": [
        "# 2. Regional Sales Distribution\n",
        "def regional_sales_distribution(merged_data):\n",
        "    region_sales = merged_data.groupby('Region')['TotalValue'].agg(['sum', 'mean', 'count']).reset_index()\n",
        "    region_sales.columns = ['Region', 'TotalSales', 'AvgSaleValue', 'NumberOfTransactions']\n",
        "    region_sales = region_sales.sort_values('TotalSales', ascending=False)\n",
        "\n",
        "    # Using Plotly for bar chart\n",
        "    fig = px.bar(region_sales, x='Region', y='TotalSales',\n",
        "                 title='Total Sales by Region',\n",
        "                 labels={'TotalSales': 'Total Sales (USD)', 'Region': 'Region'})\n",
        "    fig.write_html(\"regional_sales.html\")\n",
        "\n",
        "    return region_sales"
      ],
      "metadata": {
        "id": "M6LPHMO1A_Be"
      },
      "id": "M6LPHMO1A_Be",
      "execution_count": 54,
      "outputs": []
    },
    {
      "cell_type": "code",
      "source": [
        "# 3. Product Category Performance\n",
        "def product_category_performance(merged_data):\n",
        "    category_sales = merged_data.groupby('Category').agg({\n",
        "        'TotalValue': ['sum', 'mean'],\n",
        "        'Quantity': ['sum', 'mean'],\n",
        "        'TransactionID': 'count'\n",
        "    }).reset_index()\n",
        "    category_sales.columns = ['Category', 'TotalSales', 'AvgSaleValue', 'TotalQuantitySold', 'AvgQuantityPerTransaction', 'NumberOfTransactions']\n",
        "    category_sales = category_sales.sort_values('TotalSales', ascending=False)\n",
        "\n",
        "    # Using Plotly for pie chart\n",
        "    fig = px.pie(category_sales, values='TotalSales', names='Category',\n",
        "                 title='Sales Distribution by Product Category')\n",
        "    fig.write_html(\"category_sales.html\")\n",
        "\n",
        "    return category_sales"
      ],
      "metadata": {
        "id": "qiZeiCQABI_i"
      },
      "id": "qiZeiCQABI_i",
      "execution_count": 55,
      "outputs": []
    },
    {
      "cell_type": "code",
      "source": [
        "# 4. Customer Retention and Repeat Purchase Analysis\n",
        "def customer_retention_analysis(merged_data):\n",
        "    # Count transactions per customer\n",
        "    customer_transaction_counts = merged_data.groupby('CustomerID')['TransactionID'].count().reset_index()\n",
        "    customer_transaction_counts.columns = ['CustomerID', 'TransactionCount']\n",
        "\n",
        "    # Using Plotly for histogram\n",
        "    fig = px.histogram(customer_transaction_counts, x='TransactionCount',\n",
        "                       title='Distribution of Transaction Counts per Customer',\n",
        "                       labels={'TransactionCount': 'Number of Transactions', 'count': 'Number of Customers'})\n",
        "    fig.write_html(\"customer_transaction_distribution.html\")\n",
        "\n",
        "    # Repeat customer rate\n",
        "    total_customers = merged_data['CustomerID'].nunique()\n",
        "    repeat_customers = customer_transaction_counts[customer_transaction_counts['TransactionCount'] > 1]['CustomerID'].count()\n",
        "    repeat_customer_rate = repeat_customers / total_customers * 100\n",
        "\n",
        "    return {\n",
        "        'TotalCustomers': total_customers,\n",
        "        'RepeatCustomers': repeat_customers,\n",
        "        'RepeatCustomerRate': repeat_customer_rate\n",
        "    }"
      ],
      "metadata": {
        "id": "FfcIftinBJBN"
      },
      "id": "FfcIftinBJBN",
      "execution_count": 56,
      "outputs": []
    },
    {
      "cell_type": "code",
      "source": [
        "# 5. Seasonal Sales Trends\n",
        "def seasonal_sales_trends(merged_data):\n",
        "    merged_data['SaleMonth'] = merged_data['TransactionDate'].dt.month\n",
        "    monthly_sales = merged_data.groupby('SaleMonth')['TotalValue'].sum().reset_index()\n",
        "\n",
        "    # Using Plotly for line chart\n",
        "    fig = px.line(monthly_sales, x='SaleMonth', y='TotalValue',\n",
        "                  title='Monthly Sales Trend',\n",
        "                  labels={'SaleMonth': 'Month', 'TotalValue': 'Total Sales (USD)'})\n",
        "    fig.write_html(\"monthly_sales_trend.html\")\n",
        "\n",
        "    return monthly_sales\n"
      ],
      "metadata": {
        "id": "H7PM65QyBJEw"
      },
      "id": "H7PM65QyBJEw",
      "execution_count": 57,
      "outputs": []
    },
    {
      "cell_type": "code",
      "source": [
        "# Run analyses\n",
        "signup_trend = customer_acquisition_analysis(customers)\n",
        "region_sales = regional_sales_distribution(merged_data)\n",
        "category_sales = product_category_performance(merged_data)\n",
        "retention_analysis = customer_retention_analysis(merged_data)\n",
        "monthly_sales = seasonal_sales_trends(merged_data)"
      ],
      "metadata": {
        "id": "IKiF6s3eA_Fb"
      },
      "id": "IKiF6s3eA_Fb",
      "execution_count": 58,
      "outputs": []
    },
    {
      "cell_type": "code",
      "source": [
        "# Print key insights\n",
        "print(\"Business Insights Summary:\")\n",
        "print(\"\\n1. Customer Acquisition:\")\n",
        "print(signup_trend.nlargest(3, 'NewCustomers'))\n",
        "\n",
        "print(\"\\n2. Regional Sales Performance:\")\n",
        "print(region_sales)\n",
        "\n",
        "print(\"\\n3. Product Category Performance:\")\n",
        "print(category_sales)\n",
        "\n",
        "print(\"\\n4. Customer Retention:\")\n",
        "print(f\"Repeat Customer Rate: {retention_analysis['RepeatCustomerRate']:.2f}%\")\n",
        "\n",
        "print(\"\\n5. Seasonal Sales:\")\n",
        "print(monthly_sales)"
      ],
      "metadata": {
        "colab": {
          "base_uri": "https://localhost:8080/",
          "height": 0
        },
        "id": "aC2_F9KLA_HQ",
        "outputId": "a8c10efa-8eb2-40da-a343-fd5a1527cda4"
      },
      "id": "aC2_F9KLA_HQ",
      "execution_count": 59,
      "outputs": [
        {
          "output_type": "stream",
          "name": "stdout",
          "text": [
            "Business Insights Summary:\n",
            "\n",
            "1. Customer Acquisition:\n",
            "    SignupYear  SignupMonth  NewCustomers YearMonth\n",
            "32        2024            9            11    2024-9\n",
            "34        2024           11            11   2024-11\n",
            "27        2024            4            10    2024-4\n",
            "\n",
            "2. Regional Sales Performance:\n",
            "          Region  TotalSales  AvgSaleValue  NumberOfTransactions\n",
            "3  South America   219352.56    721.554474                   304\n",
            "1         Europe   166254.63    710.489872                   234\n",
            "2  North America   152313.40    624.235246                   244\n",
            "0           Asia   152074.97    697.591606                   218\n",
            "\n",
            "3. Product Category Performance:\n",
            "      Category  TotalSales  AvgSaleValue  TotalQuantitySold  \\\n",
            "0        Books   192147.47    711.657296                681   \n",
            "2  Electronics   180783.50    711.746063                627   \n",
            "1     Clothing   166170.66    728.818684                590   \n",
            "3   Home Decor   150893.93    608.443266                639   \n",
            "\n",
            "   AvgQuantityPerTransaction  NumberOfTransactions  \n",
            "0                   2.522222                   270  \n",
            "2                   2.468504                   254  \n",
            "1                   2.587719                   228  \n",
            "3                   2.576613                   248  \n",
            "\n",
            "4. Customer Retention:\n",
            "Repeat Customer Rate: 93.97%\n",
            "\n",
            "5. Seasonal Sales:\n",
            "    SaleMonth  TotalValue\n",
            "0           1    66376.39\n",
            "1           2    51459.27\n",
            "2           3    47828.73\n",
            "3           4    57519.06\n",
            "4           5    64527.74\n",
            "5           6    48771.18\n",
            "6           7    71366.39\n",
            "7           8    63436.74\n",
            "8           9    70603.75\n",
            "9          10    47063.22\n",
            "10         11    38224.37\n",
            "11         12    62818.72\n"
          ]
        }
      ]
    }
  ],
  "metadata": {
    "kernelspec": {
      "display_name": "Python 3 (ipykernel)",
      "language": "python",
      "name": "python3"
    },
    "language_info": {
      "codemirror_mode": {
        "name": "ipython",
        "version": 3
      },
      "file_extension": ".py",
      "mimetype": "text/x-python",
      "name": "python",
      "nbconvert_exporter": "python",
      "pygments_lexer": "ipython3",
      "version": "3.10.5"
    },
    "colab": {
      "provenance": []
    }
  },
  "nbformat": 4,
  "nbformat_minor": 5
}